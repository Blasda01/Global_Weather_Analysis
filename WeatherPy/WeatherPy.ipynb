{
 "cells": [
  {
   "cell_type": "markdown",
   "metadata": {},
   "source": [
    "# WeatherPy\n",
    "----\n",
    "\n",
    "#### Note\n",
    "* Instructions have been included for each segment. You do not have to follow them exactly, but they are included to help you think through the steps."
   ]
  },
  {
   "cell_type": "code",
   "execution_count": 1,
   "metadata": {
    "scrolled": true
   },
   "outputs": [],
   "source": [
    "# Dependencies and Setup\n",
    "import matplotlib.pyplot as plt\n",
    "import pandas as pd\n",
    "import numpy as np\n",
    "import requests\n",
    "import json\n",
    "import time\n",
    "\n",
    "# Import API key\n",
    "from api_keys import api_key\n",
    "\n",
    "# Incorporated citipy to determine city based on latitude and longitude\n",
    "from citipy import citipy\n",
    "\n",
    "# Range of latitudes and longitudes\n",
    "lat_range = (-90, 90)\n",
    "lng_range = (-180, 180)"
   ]
  },
  {
   "cell_type": "markdown",
   "metadata": {},
   "source": [
    "## Generate Cities List"
   ]
  },
  {
   "cell_type": "code",
   "execution_count": 2,
   "metadata": {},
   "outputs": [
    {
     "data": {
      "text/plain": [
       "205"
      ]
     },
     "execution_count": 2,
     "metadata": {},
     "output_type": "execute_result"
    }
   ],
   "source": [
    "# List for holding lat_lngs and cities\n",
    "lat_lngs = []\n",
    "cities = []\n",
    "\n",
    "# Create a set of random lat and lng combinations\n",
    "lats = np.random.uniform(low=-90.000, high=90.000, size=300)\n",
    "lngs = np.random.uniform(low=-180.000, high=180.000, size=300)\n",
    "lat_lngs = zip(lats, lngs)\n",
    "\n",
    "# Identify nearest city for each lat, lng combination\n",
    "for lat_lng in lat_lngs:\n",
    "    city = citipy.nearest_city(lat_lng[0], lat_lng[1]).city_name\n",
    "    \n",
    "    # If the city is unique, then add it to a our cities list\n",
    "    if city not in cities:\n",
    "        cities.append(city)\n",
    "        \n",
    "# Print the city count to confirm sufficient count\n",
    "len(cities)\n"
   ]
  },
  {
   "cell_type": "markdown",
   "metadata": {},
   "source": [
    "### Perform API Calls\n",
    "* Perform a weather check on each city using a series of successive API calls.\n",
    "* Include a print log of each city as it'sbeing processed (with the city number and city name).\n"
   ]
  },
  {
   "cell_type": "code",
   "execution_count": 3,
   "metadata": {},
   "outputs": [
    {
     "name": "stdout",
     "output_type": "stream",
     "text": [
      "Processing index 0, city name: caravelas\n",
      "Processing index 1, city name: bargal\n",
      "Cannot find weather data for city bargal\n",
      "Processing index 2, city name: sarkand\n",
      "Processing index 3, city name: aklavik\n",
      "Processing index 4, city name: kalemie\n",
      "Processing index 5, city name: puerto ayora\n",
      "Processing index 6, city name: kasongo-lunda\n",
      "Processing index 7, city name: talnakh\n",
      "Processing index 8, city name: anadyr\n",
      "Processing index 9, city name: salamiyah\n",
      "Processing index 10, city name: hobart\n",
      "Processing index 11, city name: dabat\n",
      "Processing index 12, city name: blagoyevo\n",
      "Processing index 13, city name: mayor pablo lagerenza\n",
      "Processing index 14, city name: sanger\n",
      "Processing index 15, city name: lompoc\n",
      "Processing index 16, city name: enshi\n",
      "Processing index 17, city name: husavik\n",
      "Processing index 18, city name: avarua\n",
      "Processing index 19, city name: yarada\n",
      "Processing index 20, city name: cherskiy\n",
      "Processing index 21, city name: hermanus\n",
      "Processing index 22, city name: tasiilaq\n",
      "Processing index 23, city name: port elizabeth\n",
      "Processing index 24, city name: yellowknife\n",
      "Processing index 25, city name: goundam\n",
      "Processing index 26, city name: provideniya\n",
      "Processing index 27, city name: la ronge\n",
      "Processing index 28, city name: sept-iles\n",
      "Processing index 29, city name: havelock\n",
      "Processing index 30, city name: ouallam\n",
      "Processing index 31, city name: ust-nera\n",
      "Processing index 32, city name: belushya guba\n",
      "Cannot find weather data for city belushya guba\n",
      "Processing index 33, city name: batemans bay\n",
      "Processing index 34, city name: nanortalik\n",
      "Processing index 35, city name: thompson\n",
      "Processing index 36, city name: illoqqortoormiut\n",
      "Cannot find weather data for city illoqqortoormiut\n",
      "Processing index 37, city name: nisia floresta\n",
      "Processing index 38, city name: anloga\n",
      "Processing index 39, city name: erdenet\n",
      "Processing index 40, city name: constitucion\n",
      "Processing index 41, city name: sinnamary\n",
      "Processing index 42, city name: mahebourg\n",
      "Processing index 43, city name: gabu\n",
      "Processing index 44, city name: hirara\n",
      "Processing index 45, city name: butaritari\n",
      "Processing index 46, city name: vaini\n",
      "Processing index 47, city name: chokurdakh\n",
      "Processing index 48, city name: buenavista\n",
      "Processing index 49, city name: xining\n",
      "Processing index 50, city name: upernavik\n",
      "Processing index 51, city name: mataura\n",
      "Processing index 52, city name: karamken\n",
      "Cannot find weather data for city karamken\n",
      "Processing index 53, city name: kruisfontein\n",
      "Processing index 54, city name: atuona\n",
      "Processing index 55, city name: tiznit\n",
      "Processing index 56, city name: flin flon\n",
      "Processing index 57, city name: kapaa\n",
      "Processing index 58, city name: rikitea\n",
      "Processing index 59, city name: zhigansk\n",
      "Processing index 61, city name: tazovskiy\n",
      "Processing index 62, city name: mutsamudu\n",
      "Cannot find weather data for city mutsamudu\n",
      "Processing index 63, city name: tubarao\n",
      "Processing index 64, city name: hilo\n",
      "Processing index 65, city name: kavaratti\n",
      "Processing index 66, city name: hami\n",
      "Processing index 67, city name: san patricio\n",
      "Processing index 68, city name: ushuaia\n",
      "Processing index 69, city name: waitati\n",
      "Processing index 70, city name: alexander city\n",
      "Processing index 71, city name: srednekolymsk\n",
      "Processing index 72, city name: yerbogachen\n",
      "Processing index 73, city name: sentyabrskiy\n",
      "Cannot find weather data for city sentyabrskiy\n",
      "Processing index 74, city name: norman wells\n",
      "Processing index 75, city name: mar del plata\n",
      "Processing index 76, city name: samusu\n",
      "Cannot find weather data for city samusu\n",
      "Processing index 77, city name: clyde river\n",
      "Processing index 78, city name: busselton\n",
      "Processing index 79, city name: lolua\n",
      "Cannot find weather data for city lolua\n",
      "Processing index 80, city name: bonavista\n",
      "Processing index 81, city name: arraial do cabo\n",
      "Processing index 82, city name: hadejia\n",
      "Processing index 83, city name: gat\n",
      "Processing index 84, city name: bluff\n",
      "Processing index 85, city name: boa vista\n",
      "Processing index 86, city name: merauke\n",
      "Processing index 87, city name: new norfolk\n",
      "Processing index 88, city name: kendari\n",
      "Processing index 89, city name: fortuna\n",
      "Processing index 90, city name: pevek\n",
      "Processing index 91, city name: hearst\n",
      "Processing index 92, city name: geraldton\n",
      "Processing index 93, city name: ribeira grande\n",
      "Processing index 94, city name: krasnoselkup\n",
      "Cannot find weather data for city krasnoselkup\n",
      "Processing index 95, city name: hithadhoo\n",
      "Processing index 96, city name: necochea\n",
      "Processing index 97, city name: port alfred\n",
      "Processing index 98, city name: jamestown\n",
      "Processing index 99, city name: lafia\n",
      "Processing index 100, city name: albany\n",
      "Processing index 101, city name: kirakira\n",
      "Processing index 102, city name: vestmannaeyjar\n",
      "Processing index 103, city name: borba\n",
      "Processing index 104, city name: tuktoyaktuk\n",
      "Processing index 105, city name: qaanaaq\n",
      "Processing index 106, city name: georgetown\n",
      "Processing index 107, city name: grindavik\n",
      "Processing index 108, city name: victoria\n",
      "Processing index 109, city name: south yuba city\n",
      "Processing index 110, city name: shu\n",
      "Processing index 111, city name: punta arenas\n",
      "Processing index 112, city name: othonoi\n",
      "Cannot find weather data for city othonoi\n",
      "Processing index 113, city name: tilichiki\n",
      "Processing index 114, city name: dikson\n",
      "Processing index 115, city name: bethel\n",
      "Processing index 116, city name: lavrentiya\n",
      "Processing index 117, city name: sitka\n",
      "Processing index 118, city name: villanueva\n",
      "Processing index 119, city name: castro\n",
      "Processing index 120, city name: asau\n",
      "Cannot find weather data for city asau\n",
      "Processing index 122, city name: nizhneyansk\n",
      "Cannot find weather data for city nizhneyansk\n",
      "Processing index 123, city name: vaitupu\n",
      "Cannot find weather data for city vaitupu\n",
      "Processing index 124, city name: butia\n",
      "Processing index 125, city name: kahului\n",
      "Processing index 126, city name: aquiraz\n",
      "Processing index 127, city name: salgueiro\n",
      "Processing index 128, city name: jiangyou\n",
      "Processing index 129, city name: ginda\n",
      "Processing index 130, city name: kungurtug\n",
      "Processing index 131, city name: burayevo\n",
      "Processing index 132, city name: bengkulu\n",
      "Cannot find weather data for city bengkulu\n",
      "Processing index 133, city name: cape town\n",
      "Processing index 134, city name: borogontsy\n",
      "Processing index 135, city name: port hedland\n",
      "Processing index 136, city name: kodiak\n",
      "Processing index 137, city name: grand river south east\n",
      "Cannot find weather data for city grand river south east\n",
      "Processing index 138, city name: naze\n",
      "Processing index 139, city name: souris\n",
      "Processing index 140, city name: terrace\n",
      "Processing index 141, city name: qaqortoq\n",
      "Processing index 142, city name: pisco\n",
      "Processing index 143, city name: nanakuli\n",
      "Processing index 144, city name: urumqi\n",
      "Cannot find weather data for city urumqi\n",
      "Processing index 145, city name: torbay\n",
      "Processing index 146, city name: oranjemund\n",
      "Processing index 147, city name: skagastrond\n",
      "Cannot find weather data for city skagastrond\n",
      "Processing index 148, city name: deputatskiy\n",
      "Processing index 149, city name: bredasdorp\n",
      "Processing index 150, city name: havoysund\n",
      "Processing index 151, city name: ancud\n",
      "Processing index 152, city name: nyurba\n",
      "Processing index 153, city name: hanzhong\n",
      "Processing index 154, city name: rosetta\n",
      "Processing index 155, city name: flagstaff\n",
      "Processing index 156, city name: ixtapa\n",
      "Processing index 157, city name: beringovskiy\n",
      "Processing index 158, city name: port hardy\n",
      "Processing index 159, city name: margate\n",
      "Processing index 160, city name: kulhudhuffushi\n",
      "Processing index 161, city name: tiksi\n",
      "Processing index 162, city name: wukari\n",
      "Processing index 163, city name: bathsheba\n",
      "Processing index 164, city name: ola\n",
      "Processing index 165, city name: carnarvon\n",
      "Processing index 166, city name: ponta do sol\n",
      "Processing index 167, city name: denizli\n",
      "Processing index 168, city name: hadishahr\n",
      "Processing index 169, city name: bagotville\n",
      "Processing index 170, city name: kangaatsiaq\n",
      "Processing index 171, city name: christchurch\n",
      "Processing index 172, city name: dubrovka\n",
      "Processing index 173, city name: aldan\n",
      "Processing index 174, city name: mys shmidta\n",
      "Cannot find weather data for city mys shmidta\n",
      "Processing index 175, city name: severo-kurilsk\n",
      "Processing index 176, city name: marcona\n",
      "Cannot find weather data for city marcona\n",
      "Processing index 177, city name: coquimbo\n"
     ]
    },
    {
     "name": "stdout",
     "output_type": "stream",
     "text": [
      "Processing index 178, city name: maine-soroa\n",
      "Processing index 179, city name: aykhal\n",
      "Processing index 180, city name: yar-sale\n",
      "Processing index 181, city name: palana\n",
      "Processing index 183, city name: taolanaro\n",
      "Cannot find weather data for city taolanaro\n",
      "Processing index 184, city name: kaitangata\n",
      "Processing index 185, city name: ormara\n",
      "Processing index 186, city name: namtsy\n",
      "Processing index 187, city name: leningradskiy\n",
      "Processing index 188, city name: gorom-gorom\n",
      "Processing index 189, city name: denpasar\n",
      "Processing index 190, city name: evanston\n",
      "Processing index 191, city name: grandview\n",
      "Processing index 192, city name: antalaha\n",
      "Processing index 193, city name: progreso\n",
      "Processing index 194, city name: houma\n",
      "Processing index 195, city name: barentsburg\n",
      "Cannot find weather data for city barentsburg\n",
      "Processing index 196, city name: chagda\n",
      "Cannot find weather data for city chagda\n",
      "Processing index 197, city name: sao jose da coroa grande\n",
      "Processing index 198, city name: okhotsk\n",
      "Processing index 199, city name: udachnyy\n",
      "Processing index 200, city name: saint george\n",
      "Processing index 201, city name: guerrero negro\n",
      "Processing index 202, city name: amderma\n",
      "Cannot find weather data for city amderma\n",
      "Processing index 203, city name: barrow\n",
      "Processing index 204, city name: enumclaw\n"
     ]
    }
   ],
   "source": [
    "# Save config information.\n",
    "url = \"http://api.openweathermap.org/data/2.5/weather?\"\n",
    "units = \"imperial\"\n",
    "\n",
    "# Build partial query URL\n",
    "query_url = f\"{url}appid={api_key}&units={units}&q=\"\n",
    "\n",
    "query_limit = 60\n",
    "query_count = 0\n",
    "\n",
    "columns = ['City Name', 'Country', 'Latitude', 'Longitude', 'Date', 'Tempurature', 'Humidity', 'Cloudiness', 'Wind Speed' ]\n",
    "\n",
    "\n",
    "#Create empty lists to store openweather data\n",
    "city_name, country, city_lat, city_lon, date, temp, humid, cloud, wind = ([] for i in range(len(columns)))\n",
    "\n",
    "\n",
    "# Loop through the list of cities and perform a request for data on each\n",
    "      #per API, only 60 requests per minute\n",
    "for count in range(len(cities)):\n",
    "    \n",
    "    #Pause after 60 requests\n",
    "    if query_count == query_limit:\n",
    "        time.sleep(60)\n",
    "        query_count = 0\n",
    "        \n",
    "    else: \n",
    "        query_count += 1\n",
    "        \n",
    "        try:\n",
    "            response = requests.get(query_url + cities[count]).json() \n",
    "            print(f'Processing index {count}, city name: {cities[count]}')\n",
    "\n",
    "            city_name.append(response[\"name\"])\n",
    "            country.append(response[\"sys\"][\"country\"])\n",
    "            city_lat.append(response[\"coord\"][\"lat\"])\n",
    "            city_lon.append(response[\"coord\"][\"lon\"])\n",
    "            temp.append(response[\"main\"][\"temp_max\"])\n",
    "            humid.append(response[\"main\"][\"humidity\"])\n",
    "            cloud.append(response[\"clouds\"][\"all\"])\n",
    "            wind.append(response[\"wind\"][\"speed\"])\n",
    "            date.append(response[\"dt\"])\n",
    "\n",
    "        except (KeyError, IndexError):\n",
    "            print(f'Cannot find weather data for city {cities[count]}')\n",
    "\n",
    "        \n"
   ]
  },
  {
   "cell_type": "markdown",
   "metadata": {},
   "source": [
    "### Convert Raw Data to DataFrame\n",
    "* Export the city data into a .csv.\n",
    "* Display the DataFrame"
   ]
  },
  {
   "cell_type": "code",
   "execution_count": 4,
   "metadata": {
    "scrolled": true
   },
   "outputs": [
    {
     "data": {
      "text/html": [
       "<div>\n",
       "<style scoped>\n",
       "    .dataframe tbody tr th:only-of-type {\n",
       "        vertical-align: middle;\n",
       "    }\n",
       "\n",
       "    .dataframe tbody tr th {\n",
       "        vertical-align: top;\n",
       "    }\n",
       "\n",
       "    .dataframe thead th {\n",
       "        text-align: right;\n",
       "    }\n",
       "</style>\n",
       "<table border=\"1\" class=\"dataframe\">\n",
       "  <thead>\n",
       "    <tr style=\"text-align: right;\">\n",
       "      <th></th>\n",
       "      <th>City Name</th>\n",
       "      <th>Country</th>\n",
       "      <th>Latitude</th>\n",
       "      <th>Longitude</th>\n",
       "      <th>Date</th>\n",
       "      <th>Temp</th>\n",
       "      <th>Humidity</th>\n",
       "      <th>Cloud Coverage</th>\n",
       "      <th>Wind Speed</th>\n",
       "    </tr>\n",
       "  </thead>\n",
       "  <tbody>\n",
       "    <tr>\n",
       "      <td>0</td>\n",
       "      <td>Caravelas</td>\n",
       "      <td>BR</td>\n",
       "      <td>-17.73</td>\n",
       "      <td>-39.27</td>\n",
       "      <td>1570734925</td>\n",
       "      <td>81.28</td>\n",
       "      <td>58</td>\n",
       "      <td>10</td>\n",
       "      <td>13.01</td>\n",
       "    </tr>\n",
       "    <tr>\n",
       "      <td>1</td>\n",
       "      <td>Sarkand</td>\n",
       "      <td>KZ</td>\n",
       "      <td>45.41</td>\n",
       "      <td>79.91</td>\n",
       "      <td>1570734925</td>\n",
       "      <td>56.62</td>\n",
       "      <td>37</td>\n",
       "      <td>0</td>\n",
       "      <td>4.93</td>\n",
       "    </tr>\n",
       "    <tr>\n",
       "      <td>2</td>\n",
       "      <td>Aklavik</td>\n",
       "      <td>CA</td>\n",
       "      <td>68.22</td>\n",
       "      <td>-135.01</td>\n",
       "      <td>1570734925</td>\n",
       "      <td>32.00</td>\n",
       "      <td>77</td>\n",
       "      <td>40</td>\n",
       "      <td>5.12</td>\n",
       "    </tr>\n",
       "    <tr>\n",
       "      <td>3</td>\n",
       "      <td>Kalemie</td>\n",
       "      <td>CD</td>\n",
       "      <td>-5.95</td>\n",
       "      <td>29.20</td>\n",
       "      <td>1570734925</td>\n",
       "      <td>72.64</td>\n",
       "      <td>59</td>\n",
       "      <td>0</td>\n",
       "      <td>1.43</td>\n",
       "    </tr>\n",
       "    <tr>\n",
       "      <td>4</td>\n",
       "      <td>Puerto Ayora</td>\n",
       "      <td>EC</td>\n",
       "      <td>-0.74</td>\n",
       "      <td>-90.35</td>\n",
       "      <td>1570734926</td>\n",
       "      <td>73.40</td>\n",
       "      <td>60</td>\n",
       "      <td>33</td>\n",
       "      <td>19.46</td>\n",
       "    </tr>\n",
       "  </tbody>\n",
       "</table>\n",
       "</div>"
      ],
      "text/plain": [
       "      City Name Country  Latitude  Longitude        Date   Temp  Humidity  \\\n",
       "0     Caravelas      BR    -17.73     -39.27  1570734925  81.28        58   \n",
       "1       Sarkand      KZ     45.41      79.91  1570734925  56.62        37   \n",
       "2       Aklavik      CA     68.22    -135.01  1570734925  32.00        77   \n",
       "3       Kalemie      CD     -5.95      29.20  1570734925  72.64        59   \n",
       "4  Puerto Ayora      EC     -0.74     -90.35  1570734926  73.40        60   \n",
       "\n",
       "   Cloud Coverage  Wind Speed  \n",
       "0              10       13.01  \n",
       "1               0        4.93  \n",
       "2              40        5.12  \n",
       "3               0        1.43  \n",
       "4              33       19.46  "
      ]
     },
     "execution_count": 4,
     "metadata": {},
     "output_type": "execute_result"
    }
   ],
   "source": [
    "raw_temp_df = pd.DataFrame({\"City Name\": city_name, \"Country\": country, \"Latitude\": city_lat, \"Longitude\": city_lon, \n",
    "                            \"Date\":date, \"Temp\": temp, \"Humidity\":humid, \"Cloud Coverage\":cloud, \"Wind Speed\": wind})\n",
    "\n",
    "temp_df = raw_temp_df.dropna()\n",
    "\n",
    "temp_df.head()\n"
   ]
  },
  {
   "cell_type": "code",
   "execution_count": 5,
   "metadata": {},
   "outputs": [],
   "source": [
    "#export to csv\n",
    "# Note to avoid any issues later, use encoding=\"utf-8\"\n",
    "temp_df.to_csv(\"../cities.csv\", encoding=\"utf-8\", index=False)"
   ]
  },
  {
   "cell_type": "markdown",
   "metadata": {},
   "source": [
    "### Plotting the Data\n",
    "* Use proper labeling of the plots using plot titles (including date of analysis) and axes labels.\n",
    "* Save the plotted figures as .pngs."
   ]
  },
  {
   "cell_type": "markdown",
   "metadata": {},
   "source": [
    "#### Latitude vs. Temperature Plot"
   ]
  },
  {
   "cell_type": "code",
   "execution_count": 6,
   "metadata": {},
   "outputs": [],
   "source": [
    "time_stamp = pd.to_datetime(date[0], unit = 's')\n",
    "\n",
    "format_time = time_stamp.strftime('%b/%d/%Y')\n"
   ]
  },
  {
   "cell_type": "code",
   "execution_count": 7,
   "metadata": {},
   "outputs": [
    {
     "data": {
      "image/png": "[encoded data removed]",
      "text/plain": [
       "<Figure size 432x288 with 1 Axes>"
      ]
     },
     "metadata": {
      "needs_background": "light"
     },
     "output_type": "display_data"
    }
   ],
   "source": [
    "fig, ax = plt.subplots()\n",
    "\n",
    "fig.suptitle(f\"Latitude vs. Temperature Plot, {format_time}\")\n",
    "ax.set_xlabel(\"Latitude (degrees)\")\n",
    "ax.set_ylabel(\"Temperature (F)\")\n",
    "ax.set_xlim(-90, 90)\n",
    "ax.set_ylim(np.min(temp) - 5, np.max(temp) + 5)\n",
    "ax.scatter(city_lat, temp)\n",
    "ax.grid()\n",
    "\n",
    "# Save the Figure\n",
    "plt.savefig(\"../Latitude_Temp_Plot.png\")\n",
    "\n",
    "plt.show()"
   ]
  },
  {
   "cell_type": "markdown",
   "metadata": {},
   "source": [
    "#### Latitude vs. Humidity Plot"
   ]
  },
  {
   "cell_type": "code",
   "execution_count": 8,
   "metadata": {},
   "outputs": [
    {
     "data": {
      "image/png": "[encoded data removed]",
      "text/plain": [
       "<Figure size 432x288 with 1 Axes>"
      ]
     },
     "metadata": {
      "needs_background": "light"
     },
     "output_type": "display_data"
    }
   ],
   "source": [
    "fig, ax = plt.subplots()\n",
    "\n",
    "fig.suptitle(f\"Latitude vs. Humidity Plot, {format_time}\")\n",
    "ax.set_xlabel(\"Latitude (degrees)\")\n",
    "ax.set_ylabel(\"Humidity (%)\")\n",
    "ax.set_xlim(-90, 90)\n",
    "ax.set_ylim(np.min(humid) - 5, np.max(humid) + 5)\n",
    "ax.scatter(city_lat, humid)\n",
    "ax.grid()\n",
    "\n",
    "# Save the Figure\n",
    "plt.savefig(\"../Latitude_Humidity_Plot.png\")\n",
    "\n",
    "plt.show()"
   ]
  },
  {
   "cell_type": "markdown",
   "metadata": {},
   "source": [
    "#### Latitude vs. Cloudiness Plot"
   ]
  },
  {
   "cell_type": "code",
   "execution_count": 9,
   "metadata": {},
   "outputs": [
    {
     "data": {
      "image/png": "[encoded data removed]",
      "text/plain": [
       "<Figure size 432x288 with 1 Axes>"
      ]
     },
     "metadata": {
      "needs_background": "light"
     },
     "output_type": "display_data"
    }
   ],
   "source": [
    "fig, ax = plt.subplots()\n",
    "\n",
    "fig.suptitle(f\"Latitude vs. Cloudiness, {format_time}\")\n",
    "ax.set_xlabel(\"Latitude (degrees)\")\n",
    "ax.set_ylabel(\"Cloudiness (%)\")\n",
    "ax.set_xlim(-90, 90)\n",
    "ax.set_ylim(np.min(cloud) - 5, np.max(cloud) + 5)\n",
    "ax.scatter(city_lat, cloud)\n",
    "ax.grid()\n",
    "\n",
    "# Save the Figure\n",
    "plt.savefig(\"../Latitude_Cloudiness_Plot.png\")\n",
    "\n",
    "plt.show()"
   ]
  },
  {
   "cell_type": "markdown",
   "metadata": {},
   "source": [
    "#### Latitude vs. Wind Speed Plot"
   ]
  },
  {
   "cell_type": "code",
   "execution_count": 10,
   "metadata": {},
   "outputs": [
    {
     "data": {
      "image/png": "[encoded data removed]",
      "text/plain": [
       "<Figure size 432x288 with 1 Axes>"
      ]
     },
     "metadata": {
      "needs_background": "light"
     },
     "output_type": "display_data"
    }
   ],
   "source": [
    "fig, ax = plt.subplots()\n",
    "\n",
    "fig.suptitle(f\"Latitude vs. Wind Speed Plot, {format_time}\")\n",
    "ax.set_xlabel(\"Latitude (degrees)\")\n",
    "ax.set_ylabel(\"Wind Speed (mph)\")\n",
    "ax.set_xlim(-90, 90)\n",
    "ax.set_ylim(np.min(wind) - 5, np.max(wind) + 5)\n",
    "ax.scatter(city_lat, wind)\n",
    "ax.grid()\n",
    "\n",
    "# Save the Figure\n",
    "plt.savefig(\"../Latitude_WindSpeed_Plot.png\")\n",
    "\n",
    "plt.show()"
   ]
  },
  {
   "cell_type": "code",
   "execution_count": null,
   "metadata": {},
   "outputs": [],
   "source": []
  }
 ],
 "metadata": {
  "anaconda-cloud": {},
  "kernel_info": {
   "name": "python3"
  },
  "kernelspec": {
   "display_name": "Python 3",
   "language": "python",
   "name": "python3"
  },
  "language_info": {
   "codemirror_mode": {
    "name": "ipython",
    "version": 3
   },
   "file_extension": ".py",
   "mimetype": "text/x-python",
   "name": "python",
   "nbconvert_exporter": "python",
   "pygments_lexer": "ipython3",
   "version": "3.6.9"
  },
  "nteract": {
   "version": "0.12.3"
  }
 },
 "nbformat": 4,
 "nbformat_minor": 2
}
